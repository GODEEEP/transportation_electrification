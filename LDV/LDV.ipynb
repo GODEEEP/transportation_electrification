{
 "cells": [
  {
   "cell_type": "markdown",
   "id": "e726eeaa-1ae3-4467-9e58-000583e481a5",
   "metadata": {},
   "source": [
    "## GODEEEP LDV Electricification Load Downscaling\n",
    "\n",
    "Converts GCAM output to 8760 timeseries per Balancing Authority (BA) of Light Duty Vehicle (LDV) transportation load in the Western Electricity Coordinating Council (WECC)\n",
    "\n",
    "Data required:\n",
    "* GCAM assumptions input & GCAM simulation output\n",
    "  * The processed files are included as part of this repository in the input folder\n",
    "* GCAM mapping between assumptions size.classes and output subsectors\n",
    "  * This file is redistributed as part of this repository: [input/UCD_techs_revised.csv](../input/UCD_techs_revised.csv).\n",
    "* Electric Vehicle (EV) distribution by county; for instance in the appendix of:\n",
    "  * M. Kintner-Meyer, S. Davis, S. Sridhar, D. Bhatnagar, S. Mahserejian and M. Ghosal, \"Electric vehicles at scale-phase I analysis: High EV adoption impacts on the western US power grid\", Tech. Rep., 2020.\n",
    "  * This dataset should be augmented with the state abbreviations, county FIPS codes, and Balancing Authority\n",
    "  * The county to balancing authority mapping should match that provided by TELL, redistributed as part of this repository: [input/ba_service_territory_2019.csv](../input/ba_service_territory_2019.csv).\n",
    "  * This augmented file is redistributed as part of this repository: [input/EV_at_scale_2020_Kintner-Meyer_etal.csv](../input/EV_at_scale_2020_Kintner-Meyer_etal.csv).\n",
    "* County mean meteorology for desired year and a day before and after; this is the same data produced as input to Tell\n",
    "  * Data derived from [TGW Simulations](https://tgw-data.msdlive.org/) available [here](https://doi.org/10.57931/1960548).\n",
    "* County timezones\n",
    "  * weather.gov provides the expected mapping here: https://www.weather.gov/gis/ZoneCounty\n",
    "  * Time Zones: Time zone assignments use the following codes:\n",
    "    * V   Atlantic Standard\n",
    "    * E   Eastern Standard\n",
    "    * C   Central Standard\n",
    "    * M   Mountain Standard (m = daylight time not observed)\n",
    "    * P   Pacific Standard\n",
    "    * A   Alaska Standard\n",
    "    * H   Hawaii-Aleutian Standard (h = daylight time observed)\n",
    "    * G   Guam & Marianas\n",
    "    * J   Japan Time\n",
    "    * S   Samoa Standard\n",
    "  * Two letters appear for the nine (9) counties (10 records total) which are divided by a time zone boundary, which are located in the states of FL (Gulf), ID (Idaho), ND (McKenzie, Dunn, and Sioux), NE (Cherry), OR (Malheur), SD (Stanley), and TX (Culberson).\n",
    "  * For simplification, we currently assume Daylight Savings Time is always active, except where it is not currently honored at all\n"
   ]
  },
  {
   "cell_type": "markdown",
   "id": "7db6c469-8719-42a6-975e-717c52422caf",
   "metadata": {},
   "source": [
    "<br/>"
   ]
  },
  {
   "cell_type": "markdown",
   "id": "528dad69-7ebf-4e5a-a871-b0d452e9d99a",
   "metadata": {},
   "source": [
    "<br/>"
   ]
  },
  {
   "cell_type": "code",
   "execution_count": null,
   "id": "fe9ab28e-88cf-4ed6-b734-a4b01e9d7752",
   "metadata": {
    "tags": []
   },
   "outputs": [],
   "source": [
    "import gcamreader\n",
    "import numpy as np\n",
    "import pandas as pd\n",
    "import matplotlib.pylab as plt\n",
    "import pickle\n",
    "plt.rcParams['figure.figsize'] = [20, 10]\n",
    "plt.rcParams['figure.dpi'] = 100"
   ]
  },
  {
   "cell_type": "code",
   "execution_count": null,
   "id": "7b9a4e38-4c17-410a-aa40-eba147f6bc2f",
   "metadata": {},
   "outputs": [],
   "source": []
  },
  {
   "cell_type": "markdown",
   "id": "e8509c04-0f25-49cf-8be0-5b8b1bdbd1dc",
   "metadata": {},
   "source": [
    "#### Get transportation assumptions and outputs from the GODEEEP version of GCAM-USA\n",
    "You can skip these steps if using the pre-processed files"
   ]
  },
  {
   "cell_type": "code",
   "execution_count": null,
   "id": "80c22597-23bb-434f-89e7-c51df0cd65cc",
   "metadata": {},
   "outputs": [],
   "source": [
    "# GCAM transportation assumptions files; prefer values in first file\n",
    "GCAM_path = '.'\n",
    "transportation_assumption_files = [\n",
    "    f'{GCAM_path}/input/gcamdata/inst/extdata/energy/OTAQ_trn_data_EMF37.csv',\n",
    "    f'{GCAM_path}/input/gcamdata/inst/extdata/energy/UCD_trn_data_CORE.csv',\n",
    "]"
   ]
  },
  {
   "cell_type": "code",
   "execution_count": null,
   "id": "9c14c48d-0876-4e98-ac3c-76eeb7462b1e",
   "metadata": {},
   "outputs": [],
   "source": [
    "transportation_assumptions = [pd.read_csv(f, comment='#') for f in transportation_assumption_files]"
   ]
  },
  {
   "cell_type": "code",
   "execution_count": null,
   "id": "a84dd2dc-1b8c-48d8-becd-f46179f9789a",
   "metadata": {},
   "outputs": [],
   "source": [
    "# merge both files but prefer values in the first file (based on guidance from Yang)\n",
    "merged = transportation_assumptions[0][transportation_assumptions[0].UCD_region == 'USA'].merge(transportation_assumptions[1][transportation_assumptions[1].UCD_region == 'USA'], how='outer', on=['UCD_region', 'UCD_sector', 'mode', 'size.class', 'UCD_technology', 'UCD_fuel', 'variable'], suffixes=('_primary', '_secondary'))\n",
    "primary = merged[[c for c in merged.columns if not '_secondary' in c]]\n",
    "primary.columns = primary.columns.str.replace('_primary', '')\n",
    "secondary = merged[[c for c in merged.columns if not '_primary' in c]]\n",
    "secondary.columns = secondary.columns.str.replace('_secondary', '')\n",
    "assumptions = primary.combine_first(secondary)\n",
    "# write assumptions to excel file\n",
    "assumptions.to_excel('../input/transportation_assumptions_godeeep.xlsx', index=False)"
   ]
  },
  {
   "cell_type": "code",
   "execution_count": null,
   "id": "b53a21cb-b400-4fa3-ba33-f8b01a22b6de",
   "metadata": {},
   "outputs": [],
   "source": [
    "# get the service output from GCAM\n",
    "for gcam_scenario in ['BAU_Climate', 'NetZeroNoCCS_Climate']:\n",
    "    gcam_db_path = '.'\n",
    "    gcam_db_file = f'Main_database_basexdb_{gcam_scenario}'\n",
    "    query_path = '../input/queries.xml'\n",
    "    conn = gcamreader.LocalDBConn(gcam_db_path, gcam_db_file)\n",
    "    queries = gcamreader.parse_batch_query(query_path)\n",
    "    service_output = conn.runQuery(queries[0])\n",
    "    energy_output = conn.runQuery(queries[1])\n",
    "    # write to excel files\n",
    "    service_output.to_csv(f'../input/transportation_service_output_godeeep_{gcam_scenario}.csv', index=False)\n",
    "    energy_output.to_csv(f'../input/transportation_energy_output_godeeep_{gcam_scenario}.csv', index=False)"
   ]
  },
  {
   "cell_type": "code",
   "execution_count": null,
   "id": "18cd4884-8242-4dd0-85d6-d7b523889c1c",
   "metadata": {},
   "outputs": [],
   "source": []
  },
  {
   "cell_type": "markdown",
   "id": "8c2c76c7-464e-48b1-abc8-dccdc54faa66",
   "metadata": {},
   "source": [
    "#### Generate LDV load profiles\n",
    "This could be restructured to loop over all scenarios and years, but for now you will need to manually toggle your desired settings"
   ]
  },
  {
   "cell_type": "code",
   "execution_count": null,
   "id": "d1db8cad-efbd-4fd5-8afe-64ee4abe88cf",
   "metadata": {},
   "outputs": [],
   "source": [
    "# establish the weather year to use, weather scenario, and gcam scenario\n",
    "year = 2030\n",
    "weather_scenario = 'rcp85hotter'\n",
    "# weather_scenario = 'rcp45cooler'\n",
    "# gcam_scenario = 'BAU_Climate'\n",
    "gcam_scenario = 'NetZeroNoCCS_Climate'"
   ]
  },
  {
   "cell_type": "code",
   "execution_count": null,
   "id": "6bf50709-c1ed-43f0-9e51-9b810663cf89",
   "metadata": {},
   "outputs": [],
   "source": [
    "# charging parameters to use\n",
    "pev_dist='BEV'\n",
    "class_dist='Equal'\n",
    "pref_dist='Home60'\n",
    "home_power_dist='MostL2'\n",
    "work_power_dist='MostL2'\n",
    "\n",
    "home_access_dist='HA75'\n",
    "# home_access_dist='HA100'\n",
    "res_charging='min_delay'\n",
    "# res_charging='load_leveling'\n",
    "work_charging='min_delay'\n",
    "# work_charging='load_leveling'"
   ]
  },
  {
   "cell_type": "code",
   "execution_count": null,
   "id": "5e68de6d-2ecc-454f-8f86-9ecacbdeb1cd",
   "metadata": {},
   "outputs": [],
   "source": [
    "# get fleet size and daily miles breakdown by county\n",
    "fleet_size = LDV.get_fleet_by_county(\n",
    "    f'../input/transportation_service_output_godeeep_{gcam_scenario}.csv',\n",
    "    '../input/transportation_assumptions_godeeep.xlsx',\n",
    "    '../input/UCD_techs_revised.csv',\n",
    "    '../input/EV_at_scale_2020_Kintner-Meyer_etal.csv',\n",
    "    '../input/county_timezones.dbx',\n",
    "    year,\n",
    ")"
   ]
  },
  {
   "cell_type": "code",
   "execution_count": null,
   "id": "be9720ed-cd0b-4170-8b21-e8d0552f213d",
   "metadata": {},
   "outputs": [],
   "source": [
    "# sanity check\n",
    "fleet_size[fleet_size.FIPS==53033], fleet_size[fleet_size.FIPS==53033].sum()"
   ]
  },
  {
   "cell_type": "code",
   "execution_count": null,
   "id": "5401f69b-dd51-461c-8ca2-ecfb9bda5bc9",
   "metadata": {},
   "outputs": [],
   "source": []
  },
  {
   "cell_type": "code",
   "execution_count": null,
   "id": "bf727b6c-a7da-471c-a988-646451e294e7",
   "metadata": {
    "tags": []
   },
   "outputs": [],
   "source": [
    "# Get all the possible temperature load profiles for each county\n",
    "# This will take awhile if going for all of WECC (~4+ hours)\n",
    "# Consider using the `county_subset` option for a smaller test run\n",
    "\n",
    "# You will need to provide your own `./input/nrel-api-key` file after signing up for the NREL API service\n",
    "\n",
    "temperature_load_profiles = LDV.get_temperature_loads_by_county(\n",
    "    fleet_size,\n",
    "    'https://developer.nrel.gov/api/evi-pro-lite/v1/daily-load-profile',\n",
    "    '../input/nrel-api-key',\n",
    "    #balancing_authority_subset=['IID'],\n",
    "    state_subset=['CA','OR','WA','AZ','NV','WY','ID','UT','NM','CO','MT'],\n",
    "    #county_subset=['KING'],\n",
    "    pev_dist=pev_dist,\n",
    "    class_dist=class_dist,\n",
    "    pref_dist=pref_dist,\n",
    "    home_access_dist=home_access_dist,\n",
    "    home_power_dist=home_power_dist,\n",
    "    work_power_dist=work_power_dist,\n",
    "    res_charging=res_charging,\n",
    "    work_charging=work_charging,\n",
    ")"
   ]
  },
  {
   "cell_type": "code",
   "execution_count": null,
   "id": "7e40afcd-bf43-416e-8ba2-8ef5761b0128",
   "metadata": {},
   "outputs": [],
   "source": []
  },
  {
   "cell_type": "code",
   "execution_count": null,
   "id": "32709f53-c4f4-4ef2-9a08-c3937cbe7a67",
   "metadata": {},
   "outputs": [],
   "source": [
    "# save the profiles to a pickle file in case they are needed later (i.e. use it to skip the above cell)\n",
    "with open(f'./temperature_load_profiles_{gcam_scenario}_{year}_{home_access_dist}_{res_charging}.pickle', 'wb') as handle:\n",
    "    pickle.dump(temperature_load_profiles, handle, protocol=pickle.HIGHEST_PROTOCOL)"
   ]
  },
  {
   "cell_type": "code",
   "execution_count": null,
   "id": "7babdb21-8ea9-47a5-9cf1-dc9d04f7c6b0",
   "metadata": {},
   "outputs": [],
   "source": [
    "# skip the long API call above if you have already run it before and saved a pickle file\n",
    "with open(f'./temperature_load_profiles_{gcam_scenario}_{year}_{home_access_dist}_{res_charging}.pickle', 'rb') as handle:\n",
    "    temperature_load_profiles = pickle.load(handle)"
   ]
  },
  {
   "cell_type": "code",
   "execution_count": null,
   "id": "30dc368b-80d6-4ea3-ac90-53331aa71a18",
   "metadata": {
    "tags": []
   },
   "outputs": [],
   "source": [
    "# stitch together the temperature load profiles based on the county weather\n",
    "# you'll need to download and unzip the year of data +/- one day into the specified folder\n",
    "loads = LDV.get_annual_hourly_load_profiles_by_county(\n",
    "    fleet_size,\n",
    "    temperature_load_profiles,\n",
    "    f'../input/county_meteorology/{weather_scenario}/{year}',\n",
    "    year,\n",
    ")"
   ]
  },
  {
   "cell_type": "code",
   "execution_count": null,
   "id": "846393c4-c5c6-4308-b580-f220c6d84ef8",
   "metadata": {},
   "outputs": [],
   "source": [
    "fips = pd.read_csv('../input/EV_at_scale_2020_Kintner-Meyer_etal.csv')\n",
    "loads = loads.merge(fips[['State', 'FIPS']], how='left', on='FIPS')"
   ]
  },
  {
   "cell_type": "code",
   "execution_count": null,
   "id": "586f0882-82f6-4322-8fe2-5d650e4104d3",
   "metadata": {},
   "outputs": [],
   "source": [
    "# sanity check\n",
    "loads"
   ]
  },
  {
   "cell_type": "code",
   "execution_count": null,
   "id": "75a54b32-031b-4297-8cc9-b215b3f222c2",
   "metadata": {},
   "outputs": [],
   "source": [
    "# need to scale the EVI-Pro Lite load shapes to match with the GCAM state level output\n",
    "state_loads = loads.groupby('State')[['load_MWh']].sum()\n",
    "\n",
    "# read the GCAM transportation energy by state and convert to MW\n",
    "gcam_transportation_energy = gcam_transportation_energy[gcam_transportation_energy['Year'] == year]\n",
    "gcam_transportation_energy = gcam_transportation_energy[gcam_transportation_energy['technology'].isin(['BEV', 'Electric'])]\n",
    "# convert Exajoule to Megawatt\n",
    "gcam_transportation_energy['mw'] = gcam_transportation_energy['value'] * 277.77777777778 * 1000000 / 8760\n",
    "ldv_state_level_comparison = (gcam_transportation_energy[gcam_transportation_energy['subsector'].isin([\n",
    "    '2W and 3W',\n",
    "    'Car',\n",
    "    'Large Car and Truck',\n",
    "    'Light truck',\n",
    "]) & gcam_transportation_energy.region.isin([\n",
    "    'CA','OR','WA','AZ','NV','WY','ID','UT','NM','CO','MT'\n",
    "])].groupby('region')[['mw']].sum() * 8760).merge(\n",
    "    state_loads,\n",
    "    left_index=True,\n",
    "    right_index=True,\n",
    ").rename(columns={'mw': 'GCAM_MWh', 'load_MWh': 'transportation_MWh'})\n",
    "\n",
    "ldv_state_level_comparison['scale_factor'] = ldv_state_level_comparison['GCAM_MWh'] / ldv_state_level_comparison['transportation_MWh']"
   ]
  },
  {
   "cell_type": "code",
   "execution_count": null,
   "id": "f6899f71-8850-4692-8995-c20a49863228",
   "metadata": {},
   "outputs": [],
   "source": [
    "# sanity check\n",
    "ldv_state_level_comparison"
   ]
  },
  {
   "cell_type": "code",
   "execution_count": null,
   "id": "a95801d4-155b-4f1b-812b-c59dffdeb3a6",
   "metadata": {},
   "outputs": [],
   "source": []
  },
  {
   "cell_type": "code",
   "execution_count": null,
   "id": "04c4aaf8-75b9-4952-b288-13d7c3d6fcbe",
   "metadata": {},
   "outputs": [],
   "source": [
    "# merge the loads with the scale factors\n",
    "loads = loads.merge(\n",
    "    ldv_state_level_comparison[['scale_factor']],\n",
    "    left_on='State',\n",
    "    right_index=True,\n",
    ")"
   ]
  },
  {
   "cell_type": "code",
   "execution_count": null,
   "id": "55d3356a-d051-4975-9d12-31873d3b15fe",
   "metadata": {},
   "outputs": [],
   "source": [
    "# scale the loads\n",
    "loads['load_MWh'] = loads['load_MWh'] * loads['scale_factor']"
   ]
  },
  {
   "cell_type": "code",
   "execution_count": null,
   "id": "c6bcef9c-3e87-4f34-b523-a5f97639a18b",
   "metadata": {},
   "outputs": [],
   "source": []
  },
  {
   "cell_type": "code",
   "execution_count": null,
   "id": "700d0625-374a-440a-a372-2a668e848b77",
   "metadata": {},
   "outputs": [],
   "source": [
    "# aggregate the county loads to the balancing authority level\n",
    "ba_loads = LDV.aggregate_to_balancing_authority(loads)"
   ]
  },
  {
   "cell_type": "code",
   "execution_count": null,
   "id": "1fc50331-2098-4eae-af27-7e713a239204",
   "metadata": {},
   "outputs": [],
   "source": [
    "ba_loads"
   ]
  },
  {
   "cell_type": "code",
   "execution_count": null,
   "id": "73c27aca-fa13-4625-926d-2bd85847c297",
   "metadata": {},
   "outputs": [],
   "source": [
    "# sanity check total WECC LDV energy\n",
    "ba_loads.load_MWh.sum(), (gcam_transportation_energy[gcam_transportation_energy['subsector'].isin([\n",
    "    '2W and 3W',\n",
    "    'Car',\n",
    "    'Large Car and Truck',\n",
    "    'Light truck',\n",
    "]) & gcam_transportation_energy.region.isin([\n",
    "    'CA','OR','WA','AZ','NV','WY','ID','UT','NM','CO','MT'\n",
    "])].mw.sum())*8760"
   ]
  },
  {
   "cell_type": "code",
   "execution_count": null,
   "id": "afa5071d-2402-4756-bc19-b481d2a43391",
   "metadata": {},
   "outputs": [],
   "source": []
  },
  {
   "cell_type": "code",
   "execution_count": null,
   "id": "94aeb6cf-a2e2-402f-b575-f5a2793114f1",
   "metadata": {},
   "outputs": [],
   "source": [
    "# write out csv files per balancing authority\n",
    "for group, data in ba_loads.groupby('balancing_authority'):\n",
    "    data.to_csv(f\"./output/{gcam_scenario}/{weather_scenario}/{res_charging}/{group}_hourly_LDV_load_{gcam_scenario}_{weather_scenario}_{year}_{home_access_dist}_{res_charging}.csv\", index=False)"
   ]
  },
  {
   "cell_type": "code",
   "execution_count": null,
   "id": "5e87a915-e79e-4418-893e-9d29d772e965",
   "metadata": {},
   "outputs": [],
   "source": []
  },
  {
   "cell_type": "code",
   "execution_count": null,
   "id": "e2af3f74-3450-4725-affc-259f96c6a630",
   "metadata": {},
   "outputs": [],
   "source": [
    "# sanity checks"
   ]
  },
  {
   "cell_type": "code",
   "execution_count": null,
   "id": "b476732f-845c-4b9d-a705-02f2b5583e9a",
   "metadata": {},
   "outputs": [],
   "source": [
    "figs = LDV.plot_county_loads(loads, 53033, show=False)\n",
    "figs[0].axes[0].set_title(f'LDV load for KING (53033) County for SCL Balancing Authority, {gcam_scenario} {weather_scenario} {res_charging}')"
   ]
  },
  {
   "cell_type": "code",
   "execution_count": null,
   "id": "82649883-f868-4458-a49c-db679544fa04",
   "metadata": {},
   "outputs": [],
   "source": [
    "f = LDV.plot_balancing_authority_loads(ba_loads, 'IID', False)"
   ]
  },
  {
   "cell_type": "code",
   "execution_count": null,
   "id": "3c88bcf7-3e88-47a8-afc3-21757b9a33d8",
   "metadata": {},
   "outputs": [],
   "source": [
    "f = LDV.plot_balancing_authority_loads(ba_loads, 'AZPS', False)"
   ]
  },
  {
   "cell_type": "code",
   "execution_count": null,
   "id": "66c3852c-d286-400c-9bc8-4959a75b30ee",
   "metadata": {},
   "outputs": [],
   "source": [
    "f = LDV.plot_balancing_authority_loads(ba_loads, 'CISO', False)"
   ]
  },
  {
   "cell_type": "code",
   "execution_count": null,
   "id": "0e7f2d42-99f4-4a13-b7cc-c2f393addb8c",
   "metadata": {},
   "outputs": [],
   "source": [
    "ciso = pd.read_csv('./output/BAU/rcp45cooler/CISO_hourly_LDV_load_BAU_rcp45cooler_2035.csv', parse_dates=['time'])"
   ]
  },
  {
   "cell_type": "code",
   "execution_count": null,
   "id": "da707f00-63e4-49eb-9a0d-0d3ee64a803f",
   "metadata": {},
   "outputs": [],
   "source": [
    "f = LDV.plot_balancing_authority_loads(ciso, 'CISO', False)"
   ]
  },
  {
   "cell_type": "markdown",
   "id": "7765a355-cddf-46ec-84e1-ddbd2ddcf8a7",
   "metadata": {},
   "source": [
    "<br/>"
   ]
  },
  {
   "cell_type": "markdown",
   "id": "a1ebe742-0bc2-4569-b892-16c96c062b50",
   "metadata": {},
   "source": [
    "<br/>"
   ]
  }
 ],
 "metadata": {
  "kernelspec": {
   "display_name": "godeeep",
   "language": "python",
   "name": "godeeep"
  },
  "language_info": {
   "codemirror_mode": {
    "name": "ipython",
    "version": 3
   },
   "file_extension": ".py",
   "mimetype": "text/x-python",
   "name": "python",
   "nbconvert_exporter": "python",
   "pygments_lexer": "ipython3",
   "version": "3.9.5"
  }
 },
 "nbformat": 4,
 "nbformat_minor": 5
}
