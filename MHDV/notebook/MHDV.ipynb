{
 "cells": [
  {
   "cell_type": "markdown",
   "id": "54f9e960",
   "metadata": {},
   "source": [
    "**This notebook calls \"MHDV.py\" which in turn calls \"depot_charging.py\" inside \"src\" folder and generate MHDV load profiles**\n"
   ]
  },
  {
   "cell_type": "code",
   "execution_count": null,
   "id": "fdca96e6",
   "metadata": {},
   "outputs": [],
   "source": [
    "import os\n",
    "import sys\n",
    "sys.path.append(os.path.join('..', 'src'))\n",
    "import MHDV as mhdv"
   ]
  },
  {
   "cell_type": "code",
   "execution_count": null,
   "id": "7bac2a49",
   "metadata": {},
   "outputs": [],
   "source": [
    "mhdv.generate_MHDV_load_profiles(\n",
    "    weight_immediate  = 0.4,\n",
    "    weight_delay      = 0.1,\n",
    "    weight_minpower   = 0.5,\n",
    "    kW_list_charger   = [50, 125, 250, 350, 500, 1000],\n",
    "    kW_list_weight    = [5, 5, 10, 40, 40, 0],\n",
    "    kWh_per_mile_list_vehichle_class = [0.35,0.35,0.8,1,1.1,1.2,1.9,2.8], #vehicle class 1 to 8--##---(Source: https://info.ornl.gov/sites/publications/Files/Pub136575.pdf----\n",
    "    year              = 2050,\n",
    "    gcam_scenario     = 'NetZeroNoCCS_Climate', #{'NetZeroNoCCS_Climate', 'BAU_Climate'} \n",
    "    fleet_size        = 50,\n",
    "    n_samples         = 10,\n",
    "    seed              = 22,\n",
    "    veh_type          = 'hdv', #{'mdv', 'hdv'}\n",
    ")"
   ]
  },
  {
   "cell_type": "code",
   "execution_count": null,
   "id": "83db29b4",
   "metadata": {},
   "outputs": [],
   "source": []
  }
 ],
 "metadata": {
  "kernelspec": {
   "display_name": "godeeep",
   "language": "python",
   "name": "godeeep"
  },
  "language_info": {
   "codemirror_mode": {
    "name": "ipython",
    "version": 3
   },
   "file_extension": ".py",
   "mimetype": "text/x-python",
   "name": "python",
   "nbconvert_exporter": "python",
   "pygments_lexer": "ipython3",
   "version": "3.9.5"
  }
 },
 "nbformat": 4,
 "nbformat_minor": 5
}
