{
 "cells": [
  {
   "cell_type": "markdown",
   "id": "d517d5de-800b-441f-bdc8-0a0889b396e6",
   "metadata": {},
   "source": [
    "#### Preprocess the transportation assumptions and outputs from the GCAM-USA simulations\n",
    "You can skip these steps if using the pre-processed files provided in the input directory"
   ]
  },
  {
   "cell_type": "code",
   "execution_count": null,
   "id": "4f6e5645-7e8f-4e19-8329-bb45eb33e02a",
   "metadata": {},
   "outputs": [],
   "source": [
    "import gcamreader\n",
    "import numpy as np\n",
    "import pandas as pd"
   ]
  },
  {
   "cell_type": "code",
   "execution_count": null,
   "id": "27a14d2d-f2db-4114-ada5-90742218af82",
   "metadata": {},
   "outputs": [],
   "source": [
    "# GCAM transportation assumptions files; prefer values in first file\n",
    "# the GCAM-USA source code referemced here can be downloaded from https://doi.org/10.5281/zenodo.7838871\n",
    "GCAM_path = './GCAMUSA_GODEEEP'\n",
    "transportation_assumption_files = [\n",
    "    f'{GCAM_path}/input/gcamdata/inst/extdata/energy/OTAQ_trn_data_EMF37.csv',\n",
    "    f'{GCAM_path}/input/gcamdata/inst/extdata/energy/UCD_trn_data_CORE.csv',\n",
    "]\n",
    "transportation_assumptions = [pd.read_csv(f, comment='#') for f in transportation_assumption_files]"
   ]
  },
  {
   "cell_type": "code",
   "execution_count": null,
   "id": "d53feb0d-b5b5-4049-b68f-8f4508be9fcb",
   "metadata": {},
   "outputs": [],
   "source": [
    "# merge both assumptions files but prefer values in the first file (based on guidance from GCAM-USA team)\n",
    "merged = transportation_assumptions[0][\n",
    "    transportation_assumptions[0].UCD_region == 'USA'\n",
    "].merge(\n",
    "    transportation_assumptions[1][\n",
    "        transportation_assumptions[1].UCD_region == 'USA'\n",
    "    ],\n",
    "    how='outer',\n",
    "    on=['UCD_region', 'UCD_sector', 'mode', 'size.class', 'UCD_technology', 'UCD_fuel', 'variable'],\n",
    "    suffixes=('_primary', '_secondary')\n",
    ")\n",
    "primary = merged[[c for c in merged.columns if not '_secondary' in c]]\n",
    "primary.columns = primary.columns.str.replace('_primary', '')\n",
    "secondary = merged[[c for c in merged.columns if not '_primary' in c]]\n",
    "secondary.columns = secondary.columns.str.replace('_secondary', '')\n",
    "assumptions = primary.combine_first(secondary)\n",
    "\n",
    "# write assumptions to excel file\n",
    "assumptions.to_excel('./input/transportation_assumptions_godeeep_ira_ccs_climate.xlsx', index=False)"
   ]
  },
  {
   "cell_type": "code",
   "execution_count": null,
   "id": "19e4f5d4-7404-43c5-957c-dfb676269948",
   "metadata": {},
   "outputs": [],
   "source": [
    "# get the service output from GCAM-USA\n",
    "# the GCAM-USA databases used here can be downloaded from https://doi.org/10.5281/zenodo.7838871\n",
    "#for gcam_database, scenario_name in [('database_01b_BAU_climate', 'business_as_usual_ira_ccs_climate'), ('database_02b_NZ_climate', 'net_zero_ira_ccs_climate')]:\n",
    "for gcam_database, scenario_name in [('Sensitivity_database_basexdb_NetZeroCCS_Climate', 'net_zero_ccs_climate')]:\n",
    "    gcam_db_path = '/Users/thur961/godeeep'\n",
    "    gcam_db_file = f'{gcam_database}'\n",
    "    query_path = './input/queries.xml'\n",
    "    conn = gcamreader.LocalDBConn(gcam_db_path, gcam_db_file)\n",
    "    queries = gcamreader.parse_batch_query(query_path)\n",
    "    service_output = conn.runQuery(queries[0])\n",
    "    energy_output = conn.runQuery(queries[1])\n",
    "    # write to excel files\n",
    "    service_output.to_csv(f'./input/transportation_service_output_godeeep_{scenario_name}.csv', index=False)\n",
    "    energy_output.to_csv(f'./input/transportation_energy_output_godeeep_{scenario_name}.csv', index=False)"
   ]
  },
  {
   "cell_type": "code",
   "execution_count": null,
   "id": "a934bd6b-6bcd-4a42-97f0-2e2ab4eafd74",
   "metadata": {},
   "outputs": [],
   "source": []
  },
  {
   "cell_type": "code",
   "execution_count": null,
   "id": "e07ac5a5-3e5d-41ab-8b48-600e0736fb14",
   "metadata": {},
   "outputs": [],
   "source": [
    "# SCRATCH"
   ]
  },
  {
   "cell_type": "code",
   "execution_count": null,
   "id": "905c2b7d-5b78-4d55-a192-3e36e09de3c0",
   "metadata": {},
   "outputs": [],
   "source": [
    "nz_service = pd.read_csv('./input/transportation_service_output_godeeep_NetZeroNoCCS_Climate.csv')\n",
    "nz_energy = pd.read_csv('./input/transportation_energy_output_godeeep_NetZeroNoCCS_Climate.csv')\n",
    "bau_service = pd.read_csv('./input/transportation_service_output_godeeep_BAU_Climate.csv')\n",
    "bau_energy = pd.read_csv('./input/transportation_energy_output_godeeep_BAU_Climate.csv')\n",
    "nz_ira_service = pd.read_csv('./input/transportation_service_output_godeeep_net_zero_ira_ccs_climate.csv')\n",
    "nz_ira_energy = pd.read_csv('./input/transportation_energy_output_godeeep_net_zero_ira_ccs_climate.csv')\n",
    "bau_ira_service = pd.read_csv('./input/transportation_service_output_godeeep_business_as_usual_ira_ccs_climate.csv')\n",
    "bau_ira_energy = pd.read_csv('./input/transportation_energy_output_godeeep_business_as_usual_ira_ccs_climate.csv')"
   ]
  },
  {
   "cell_type": "code",
   "execution_count": null,
   "id": "38abb7d5-3b1e-4011-8e89-4ffd73412eb1",
   "metadata": {},
   "outputs": [],
   "source": []
  },
  {
   "cell_type": "code",
   "execution_count": null,
   "id": "c63c3785-01c5-4b11-bbfb-7d7176ba0d07",
   "metadata": {},
   "outputs": [],
   "source": [
    "nz_service_LDV = nz_service[(nz_service.Year >= 2020) & nz_service.technology.isin(['BEV']) & nz_service.subsector.isin(['2W and 3W', 'Car', 'Large Car and Truck', 'Light truck'])].groupby(['subsector', 'Year']).aggregate({'value': 'sum'})\n",
    "nz_service_LDV"
   ]
  },
  {
   "cell_type": "code",
   "execution_count": null,
   "id": "4fdeb980-ebea-446d-aac1-7522d013ccde",
   "metadata": {},
   "outputs": [],
   "source": [
    "nz_ira_service_LDV = nz_ira_service[(nz_ira_service.Year >= 2020) & nz_ira_service.technology.isin(['BEV']) & nz_ira_service.subsector.isin(['2W and 3W', 'Car', 'Large Car and Truck', 'Light truck'])].groupby(['subsector', 'Year']).aggregate({'value': 'sum'})\n",
    "nz_ira_service_LDV"
   ]
  },
  {
   "cell_type": "code",
   "execution_count": null,
   "id": "6c5f9984-eb4c-4070-a3fa-d8f96f85d473",
   "metadata": {},
   "outputs": [],
   "source": []
  },
  {
   "cell_type": "code",
   "execution_count": null,
   "id": "04358839-0b08-4b29-bb98-1765a8bce40a",
   "metadata": {},
   "outputs": [],
   "source": []
  },
  {
   "cell_type": "code",
   "execution_count": null,
   "id": "637a9536-de7c-4815-86c4-be65659eec23",
   "metadata": {},
   "outputs": [],
   "source": []
  },
  {
   "cell_type": "code",
   "execution_count": null,
   "id": "98d8c046-78dd-49ea-8f09-e3d992da912b",
   "metadata": {},
   "outputs": [],
   "source": []
  },
  {
   "cell_type": "code",
   "execution_count": null,
   "id": "35c7f7a4-2b4d-4374-ad8d-a6f184ed97fd",
   "metadata": {},
   "outputs": [],
   "source": []
  }
 ],
 "metadata": {
  "kernelspec": {
   "display_name": "godeeep",
   "language": "python",
   "name": "godeeep"
  },
  "language_info": {
   "codemirror_mode": {
    "name": "ipython",
    "version": 3
   },
   "file_extension": ".py",
   "mimetype": "text/x-python",
   "name": "python",
   "nbconvert_exporter": "python",
   "pygments_lexer": "ipython3",
   "version": "3.9.5"
  }
 },
 "nbformat": 4,
 "nbformat_minor": 5
}
