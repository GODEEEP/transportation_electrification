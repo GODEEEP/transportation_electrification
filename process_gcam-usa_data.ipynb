{
 "cells": [
  {
   "cell_type": "markdown",
   "id": "d517d5de-800b-441f-bdc8-0a0889b396e6",
   "metadata": {},
   "source": [
    "#### Preprocess the transportation assumptions and outputs from the GCAM-USA simulations\n",
    "You can skip these steps if using the pre-processed files provided in the input directory"
   ]
  },
  {
   "cell_type": "code",
   "execution_count": null,
   "id": "4f6e5645-7e8f-4e19-8329-bb45eb33e02a",
   "metadata": {},
   "outputs": [],
   "source": [
    "import gcamreader\n",
    "import numpy as np\n",
    "import pandas as pd"
   ]
  },
  {
   "cell_type": "code",
   "execution_count": null,
   "id": "27a14d2d-f2db-4114-ada5-90742218af82",
   "metadata": {},
   "outputs": [],
   "source": [
    "# GCAM transportation assumptions files; prefer values in first file\n",
    "# the GCAM-USA source code referemced here can be downloaded from https://doi.org/10.5281/zenodo.7838871\n",
    "GCAM_path = '../path/to/gcam-usa/model'\n",
    "transportation_assumption_files = [\n",
    "    f'{GCAM_path}/input/gcamdata/inst/extdata/energy/OTAQ_trn_data_EMF37.csv',\n",
    "    f'{GCAM_path}/input/gcamdata/inst/extdata/energy/UCD_trn_data_CORE.csv',\n",
    "]\n",
    "transportation_assumptions = [pd.read_csv(f, comment='#') for f in transportation_assumption_files]"
   ]
  },
  {
   "cell_type": "code",
   "execution_count": null,
   "id": "d53feb0d-b5b5-4049-b68f-8f4508be9fcb",
   "metadata": {},
   "outputs": [],
   "source": [
    "# merge both assumptions files but prefer values in the first file (based on guidance from GCAM-USA team)\n",
    "merged = transportation_assumptions[0][\n",
    "    transportation_assumptions[0].UCD_region == 'USA'\n",
    "].merge(\n",
    "    transportation_assumptions[1][\n",
    "        transportation_assumptions[1].UCD_region == 'USA'\n",
    "    ],\n",
    "    how='outer',\n",
    "    on=['UCD_region', 'UCD_sector', 'mode', 'size.class', 'UCD_technology', 'UCD_fuel', 'variable'],\n",
    "    suffixes=('_primary', '_secondary')\n",
    ")\n",
    "primary = merged[[c for c in merged.columns if not '_secondary' in c]]\n",
    "primary.columns = primary.columns.str.replace('_primary', '')\n",
    "secondary = merged[[c for c in merged.columns if not '_primary' in c]]\n",
    "secondary.columns = secondary.columns.str.replace('_secondary', '')\n",
    "assumptions = primary.combine_first(secondary)\n",
    "\n",
    "# write assumptions to excel file\n",
    "assumptions.to_excel('./input/transportation_assumptions_godeeep.xlsx', index=False)"
   ]
  },
  {
   "cell_type": "code",
   "execution_count": null,
   "id": "19e4f5d4-7404-43c5-957c-dfb676269948",
   "metadata": {},
   "outputs": [],
   "source": [
    "# get the service output from GCAM-USA\n",
    "# the GCAM-USA databases used here can be downloaded from https://doi.org/10.5281/zenodo.7838871\n",
    "for gcam_scenario in ['BAU_Climate', 'NetZeroNoCCS_Climate']:\n",
    "    gcam_db_path = '../path/to/gcam-usa/output/directory'\n",
    "    gcam_db_file = f'Main_database_basexdb_{gcam_scenario}'\n",
    "    query_path = './input/queries.xml'\n",
    "    conn = gcamreader.LocalDBConn(gcam_db_path, gcam_db_file)\n",
    "    queries = gcamreader.parse_batch_query(query_path)\n",
    "    service_output = conn.runQuery(queries[0])\n",
    "    energy_output = conn.runQuery(queries[1])\n",
    "    # write to excel files\n",
    "    service_output.to_csv(f'./input/transportation_service_output_godeeep_{gcam_scenario}.csv', index=False)\n",
    "    energy_output.to_csv(f'./input/transportation_energy_output_godeeep_{gcam_scenario}.csv', index=False)"
   ]
  }
 ],
 "metadata": {
  "kernelspec": {
   "display_name": "godeeep",
   "language": "python",
   "name": "godeeep"
  },
  "language_info": {
   "codemirror_mode": {
    "name": "ipython",
    "version": 3
   },
   "file_extension": ".py",
   "mimetype": "text/x-python",
   "name": "python",
   "nbconvert_exporter": "python",
   "pygments_lexer": "ipython3",
   "version": "3.9.5"
  }
 },
 "nbformat": 4,
 "nbformat_minor": 5
}
